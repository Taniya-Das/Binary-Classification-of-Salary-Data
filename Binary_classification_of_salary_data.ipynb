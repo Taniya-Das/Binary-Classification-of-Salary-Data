{
  "nbformat": 4,
  "nbformat_minor": 0,
  "metadata": {
    "colab": {
      "name": "Binary classification of salary data",
      "provenance": [],
      "collapsed_sections": [],
      "mount_file_id": "1AG3Rc4UN9AgTWrzQKHKHDJNVfGCBGDtn",
      "authorship_tag": "ABX9TyNOtVJom+vP9UEG49ceSuou"
    },
    "kernelspec": {
      "name": "python3",
      "display_name": "Python 3"
    },
    "language_info": {
      "name": "python"
    }
  },
  "cells": [
    {
      "cell_type": "markdown",
      "metadata": {
        "id": "QT9hWXYPW3H8"
      },
      "source": [
        "In this data set, the dependent variable is \"target.\" It is a binary classification problem. We need to predict if the salary of a given person is less than or more than 50K.\n"
      ]
    },
    {
      "cell_type": "code",
      "metadata": {
        "id": "IeXjZB_uh8uF"
      },
      "source": [
        "import pandas as pd\n",
        "import numpy as np"
      ],
      "execution_count": null,
      "outputs": []
    },
    {
      "cell_type": "code",
      "metadata": {
        "id": "8LVl28UxRxtO"
      },
      "source": [
        "#Step 1: load dataSet\n",
        "train  = pd.read_csv(\"/content/drive/MyDrive/Colab Notebooks/Google Collab ML data repository/UCI ML data (adults for binary classification)/train.csv\")\n",
        "test = pd.read_csv(\"/content/drive/MyDrive/Colab Notebooks/Google Collab ML data repository/UCI ML data (adults for binary classification)/test.csv\")"
      ],
      "execution_count": null,
      "outputs": []
    },
    {
      "cell_type": "code",
      "metadata": {
        "colab": {
          "base_uri": "https://localhost:8080/"
        },
        "id": "OXfoIGBzi39U",
        "outputId": "11217d30-ce24-4b28-81d4-4eefea7a0daa"
      },
      "source": [
        "#Step 2(i):check data using info()\n",
        "train.info()"
      ],
      "execution_count": null,
      "outputs": [
        {
          "output_type": "stream",
          "text": [
            "<class 'pandas.core.frame.DataFrame'>\n",
            "RangeIndex: 32561 entries, 0 to 32560\n",
            "Data columns (total 15 columns):\n",
            " #   Column          Non-Null Count  Dtype \n",
            "---  ------          --------------  ----- \n",
            " 0   age             32561 non-null  int64 \n",
            " 1   workclass       30725 non-null  object\n",
            " 2   fnlwgt          32561 non-null  int64 \n",
            " 3   education       32561 non-null  object\n",
            " 4   education.num   32561 non-null  int64 \n",
            " 5   marital.status  32561 non-null  object\n",
            " 6   occupation      30718 non-null  object\n",
            " 7   relationship    32561 non-null  object\n",
            " 8   race            32561 non-null  object\n",
            " 9   sex             32561 non-null  object\n",
            " 10  capital.gain    32561 non-null  int64 \n",
            " 11  capital.loss    32561 non-null  int64 \n",
            " 12  hours.per.week  32561 non-null  int64 \n",
            " 13  native.country  31978 non-null  object\n",
            " 14  target          32561 non-null  object\n",
            "dtypes: int64(6), object(9)\n",
            "memory usage: 3.7+ MB\n"
          ],
          "name": "stdout"
        }
      ]
    },
    {
      "cell_type": "code",
      "metadata": {
        "colab": {
          "base_uri": "https://localhost:8080/"
        },
        "id": "7trN1RJMy1we",
        "outputId": "f1ec01d0-db93-4f6a-cfbe-64f0ab478dd9"
      },
      "source": [
        "#Step 2 (ii):know its size\n",
        "train.shape\n",
        "test.shape"
      ],
      "execution_count": null,
      "outputs": [
        {
          "output_type": "execute_result",
          "data": {
            "text/plain": [
              "(16281, 15)"
            ]
          },
          "metadata": {
            "tags": []
          },
          "execution_count": 4
        }
      ]
    },
    {
      "cell_type": "code",
      "metadata": {
        "colab": {
          "base_uri": "https://localhost:8080/",
          "height": 291
        },
        "id": "skk0dxzaiRu8",
        "outputId": "1c39b2b0-6aba-4efb-d27d-f6e1a06a7be3"
      },
      "source": [
        "#STep 3:glimpse of data using head(), by default 5 rows are displayed\n",
        "train.head()\n",
        "#test.head(n=10)\n",
        "#test.tail(n=2)\n"
      ],
      "execution_count": null,
      "outputs": [
        {
          "output_type": "execute_result",
          "data": {
            "text/html": [
              "<div>\n",
              "<style scoped>\n",
              "    .dataframe tbody tr th:only-of-type {\n",
              "        vertical-align: middle;\n",
              "    }\n",
              "\n",
              "    .dataframe tbody tr th {\n",
              "        vertical-align: top;\n",
              "    }\n",
              "\n",
              "    .dataframe thead th {\n",
              "        text-align: right;\n",
              "    }\n",
              "</style>\n",
              "<table border=\"1\" class=\"dataframe\">\n",
              "  <thead>\n",
              "    <tr style=\"text-align: right;\">\n",
              "      <th></th>\n",
              "      <th>age</th>\n",
              "      <th>workclass</th>\n",
              "      <th>fnlwgt</th>\n",
              "      <th>education</th>\n",
              "      <th>education.num</th>\n",
              "      <th>marital.status</th>\n",
              "      <th>occupation</th>\n",
              "      <th>relationship</th>\n",
              "      <th>race</th>\n",
              "      <th>sex</th>\n",
              "      <th>capital.gain</th>\n",
              "      <th>capital.loss</th>\n",
              "      <th>hours.per.week</th>\n",
              "      <th>native.country</th>\n",
              "      <th>target</th>\n",
              "    </tr>\n",
              "  </thead>\n",
              "  <tbody>\n",
              "    <tr>\n",
              "      <th>0</th>\n",
              "      <td>39</td>\n",
              "      <td>State-gov</td>\n",
              "      <td>77516</td>\n",
              "      <td>Bachelors</td>\n",
              "      <td>13</td>\n",
              "      <td>Never-married</td>\n",
              "      <td>Adm-clerical</td>\n",
              "      <td>Not-in-family</td>\n",
              "      <td>White</td>\n",
              "      <td>Male</td>\n",
              "      <td>2174</td>\n",
              "      <td>0</td>\n",
              "      <td>40</td>\n",
              "      <td>United-States</td>\n",
              "      <td>&lt;=50K</td>\n",
              "    </tr>\n",
              "    <tr>\n",
              "      <th>1</th>\n",
              "      <td>50</td>\n",
              "      <td>Self-emp-not-inc</td>\n",
              "      <td>83311</td>\n",
              "      <td>Bachelors</td>\n",
              "      <td>13</td>\n",
              "      <td>Married-civ-spouse</td>\n",
              "      <td>Exec-managerial</td>\n",
              "      <td>Husband</td>\n",
              "      <td>White</td>\n",
              "      <td>Male</td>\n",
              "      <td>0</td>\n",
              "      <td>0</td>\n",
              "      <td>13</td>\n",
              "      <td>United-States</td>\n",
              "      <td>&lt;=50K</td>\n",
              "    </tr>\n",
              "    <tr>\n",
              "      <th>2</th>\n",
              "      <td>38</td>\n",
              "      <td>Private</td>\n",
              "      <td>215646</td>\n",
              "      <td>HS-grad</td>\n",
              "      <td>9</td>\n",
              "      <td>Divorced</td>\n",
              "      <td>Handlers-cleaners</td>\n",
              "      <td>Not-in-family</td>\n",
              "      <td>White</td>\n",
              "      <td>Male</td>\n",
              "      <td>0</td>\n",
              "      <td>0</td>\n",
              "      <td>40</td>\n",
              "      <td>United-States</td>\n",
              "      <td>&lt;=50K</td>\n",
              "    </tr>\n",
              "    <tr>\n",
              "      <th>3</th>\n",
              "      <td>53</td>\n",
              "      <td>Private</td>\n",
              "      <td>234721</td>\n",
              "      <td>11th</td>\n",
              "      <td>7</td>\n",
              "      <td>Married-civ-spouse</td>\n",
              "      <td>Handlers-cleaners</td>\n",
              "      <td>Husband</td>\n",
              "      <td>Black</td>\n",
              "      <td>Male</td>\n",
              "      <td>0</td>\n",
              "      <td>0</td>\n",
              "      <td>40</td>\n",
              "      <td>United-States</td>\n",
              "      <td>&lt;=50K</td>\n",
              "    </tr>\n",
              "    <tr>\n",
              "      <th>4</th>\n",
              "      <td>28</td>\n",
              "      <td>Private</td>\n",
              "      <td>338409</td>\n",
              "      <td>Bachelors</td>\n",
              "      <td>13</td>\n",
              "      <td>Married-civ-spouse</td>\n",
              "      <td>Prof-specialty</td>\n",
              "      <td>Wife</td>\n",
              "      <td>Black</td>\n",
              "      <td>Female</td>\n",
              "      <td>0</td>\n",
              "      <td>0</td>\n",
              "      <td>40</td>\n",
              "      <td>Cuba</td>\n",
              "      <td>&lt;=50K</td>\n",
              "    </tr>\n",
              "  </tbody>\n",
              "</table>\n",
              "</div>"
            ],
            "text/plain": [
              "   age          workclass  fnlwgt  ... hours.per.week  native.country  target\n",
              "0   39          State-gov   77516  ...             40   United-States   <=50K\n",
              "1   50   Self-emp-not-inc   83311  ...             13   United-States   <=50K\n",
              "2   38            Private  215646  ...             40   United-States   <=50K\n",
              "3   53            Private  234721  ...             40   United-States   <=50K\n",
              "4   28            Private  338409  ...             40            Cuba   <=50K\n",
              "\n",
              "[5 rows x 15 columns]"
            ]
          },
          "metadata": {
            "tags": []
          },
          "execution_count": 5
        }
      ]
    },
    {
      "cell_type": "code",
      "metadata": {
        "colab": {
          "base_uri": "https://localhost:8080/"
        },
        "id": "qwVLAAvy7V4g",
        "outputId": "3330c655-e64c-4b38-abcb-d977e7250f36"
      },
      "source": [
        "#Step 4: Check for missing data, shape[0]=no of rows, dropna()\n",
        "nans = train.shape[0]-train.dropna().shape[0]\n",
        "print(\"rows having missing values in train data\",nans)\n",
        "\n",
        "nand=test.shape[0]-test.dropna().shape[0]\n",
        "print(\"rows having missing values in test data\",nand)\n",
        "\n"
      ],
      "execution_count": null,
      "outputs": [
        {
          "output_type": "stream",
          "text": [
            "rows having missing values in train data 2399\n",
            "rows having missing values in test data 1221\n"
          ],
          "name": "stdout"
        }
      ]
    },
    {
      "cell_type": "code",
      "metadata": {
        "colab": {
          "base_uri": "https://localhost:8080/"
        },
        "id": "qLRYFA4pwAbX",
        "outputId": "35f873e4-1235-478d-cadd-de2aebd3a80c"
      },
      "source": [
        "#see which column contains NaN values\n",
        "train.isnull().sum()"
      ],
      "execution_count": null,
      "outputs": [
        {
          "output_type": "execute_result",
          "data": {
            "text/plain": [
              "age                  0\n",
              "workclass         1836\n",
              "fnlwgt               0\n",
              "education            0\n",
              "education.num        0\n",
              "marital.status       0\n",
              "occupation        1843\n",
              "relationship         0\n",
              "race                 0\n",
              "sex                  0\n",
              "capital.gain         0\n",
              "capital.loss         0\n",
              "hours.per.week       0\n",
              "native.country     583\n",
              "target               0\n",
              "dtype: int64"
            ]
          },
          "metadata": {
            "tags": []
          },
          "execution_count": 7
        }
      ]
    },
    {
      "cell_type": "code",
      "metadata": {
        "colab": {
          "base_uri": "https://localhost:8080/"
        },
        "id": "tjv3f-B7x7GC",
        "outputId": "d3895aa1-7d71-4077-ee12-83ebc4559b33"
      },
      "source": [
        "# count no of unique values from character variables\n",
        "cat=train.select_dtypes(include=['O']) #dtype='O' in pandasdatatype=object & python datatype=string \n",
        "cat.apply(pd.Series.nunique,axis=0)#axis=0 for index(columns) and axis=1=columns(rows)"
      ],
      "execution_count": null,
      "outputs": [
        {
          "output_type": "execute_result",
          "data": {
            "text/plain": [
              "workclass          8\n",
              "education         16\n",
              "marital.status     7\n",
              "occupation        14\n",
              "relationship       6\n",
              "race               5\n",
              "sex                2\n",
              "native.country    41\n",
              "target             2\n",
              "dtype: int64"
            ]
          },
          "metadata": {
            "tags": []
          },
          "execution_count": 8
        }
      ]
    },
    {
      "cell_type": "code",
      "metadata": {
        "id": "j3hor8Kw3-E9"
      },
      "source": [
        "#since missing values are in character variable, we can fill with their respective modes\n",
        "#Workclass\n",
        "train.workclass.value_counts(sort=True)\n",
        "train.workclass.fillna(value='Private',inplace=True)\n",
        "\n",
        "#Occupation\n",
        "train.occupation.value_counts()\n",
        "train.occupation.fillna(value='Prof-specialty',inplace=True)\n",
        "\n",
        "#native.country\n",
        "train['native.country'].value_counts(sort=True) #Can't use above format as native.country contains '.'\n",
        "train['native.country'].fillna(value='United=-States',inplace=True)\n"
      ],
      "execution_count": null,
      "outputs": []
    },
    {
      "cell_type": "code",
      "metadata": {
        "colab": {
          "base_uri": "https://localhost:8080/"
        },
        "id": "bwfIfR3JQkDQ",
        "outputId": "5b2fbd6d-0166-444e-df74-312790af0a44"
      },
      "source": [
        "#check again for missing value\n",
        "train.isnull().sum()"
      ],
      "execution_count": null,
      "outputs": [
        {
          "output_type": "execute_result",
          "data": {
            "text/plain": [
              "age               0\n",
              "workclass         0\n",
              "fnlwgt            0\n",
              "education         0\n",
              "education.num     0\n",
              "marital.status    0\n",
              "occupation        0\n",
              "relationship      0\n",
              "race              0\n",
              "sex               0\n",
              "capital.gain      0\n",
              "capital.loss      0\n",
              "hours.per.week    0\n",
              "native.country    0\n",
              "target            0\n",
              "dtype: int64"
            ]
          },
          "metadata": {
            "tags": []
          },
          "execution_count": 10
        }
      ]
    },
    {
      "cell_type": "code",
      "metadata": {
        "colab": {
          "base_uri": "https://localhost:8080/"
        },
        "id": "BfUQ-NO6S5jF",
        "outputId": "80c890b6-81d9-464f-f57b-da5d27fd3b2f"
      },
      "source": [
        "#checking proportion of target variable\n",
        "train.target.value_counts()/train.shape[0]\n",
        "# It means that if we guess salary<=50K, we will have 75% accuracy"
      ],
      "execution_count": null,
      "outputs": [
        {
          "output_type": "execute_result",
          "data": {
            "text/plain": [
              " <=50K    0.75919\n",
              " >50K     0.24081\n",
              "Name: target, dtype: float64"
            ]
          },
          "metadata": {
            "tags": []
          },
          "execution_count": 11
        }
      ]
    },
    {
      "cell_type": "code",
      "metadata": {
        "colab": {
          "base_uri": "https://localhost:8080/",
          "height": 601
        },
        "id": "HRDzf_zNX3hG",
        "outputId": "e1d7a56e-0194-4ea2-d158-1e9277d329df"
      },
      "source": [
        "pd.crosstab(train.education,train.target,margins=True)/train.shape[0]"
      ],
      "execution_count": null,
      "outputs": [
        {
          "output_type": "execute_result",
          "data": {
            "text/html": [
              "<div>\n",
              "<style scoped>\n",
              "    .dataframe tbody tr th:only-of-type {\n",
              "        vertical-align: middle;\n",
              "    }\n",
              "\n",
              "    .dataframe tbody tr th {\n",
              "        vertical-align: top;\n",
              "    }\n",
              "\n",
              "    .dataframe thead th {\n",
              "        text-align: right;\n",
              "    }\n",
              "</style>\n",
              "<table border=\"1\" class=\"dataframe\">\n",
              "  <thead>\n",
              "    <tr style=\"text-align: right;\">\n",
              "      <th>target</th>\n",
              "      <th>&lt;=50K</th>\n",
              "      <th>&gt;50K</th>\n",
              "      <th>All</th>\n",
              "    </tr>\n",
              "    <tr>\n",
              "      <th>education</th>\n",
              "      <th></th>\n",
              "      <th></th>\n",
              "      <th></th>\n",
              "    </tr>\n",
              "  </thead>\n",
              "  <tbody>\n",
              "    <tr>\n",
              "      <th>10th</th>\n",
              "      <td>0.026750</td>\n",
              "      <td>0.001904</td>\n",
              "      <td>0.028654</td>\n",
              "    </tr>\n",
              "    <tr>\n",
              "      <th>11th</th>\n",
              "      <td>0.034243</td>\n",
              "      <td>0.001843</td>\n",
              "      <td>0.036086</td>\n",
              "    </tr>\n",
              "    <tr>\n",
              "      <th>12th</th>\n",
              "      <td>0.012285</td>\n",
              "      <td>0.001013</td>\n",
              "      <td>0.013298</td>\n",
              "    </tr>\n",
              "    <tr>\n",
              "      <th>1st-4th</th>\n",
              "      <td>0.004975</td>\n",
              "      <td>0.000184</td>\n",
              "      <td>0.005160</td>\n",
              "    </tr>\n",
              "    <tr>\n",
              "      <th>5th-6th</th>\n",
              "      <td>0.009736</td>\n",
              "      <td>0.000491</td>\n",
              "      <td>0.010227</td>\n",
              "    </tr>\n",
              "    <tr>\n",
              "      <th>7th-8th</th>\n",
              "      <td>0.018611</td>\n",
              "      <td>0.001228</td>\n",
              "      <td>0.019840</td>\n",
              "    </tr>\n",
              "    <tr>\n",
              "      <th>9th</th>\n",
              "      <td>0.014957</td>\n",
              "      <td>0.000829</td>\n",
              "      <td>0.015786</td>\n",
              "    </tr>\n",
              "    <tr>\n",
              "      <th>Assoc-acdm</th>\n",
              "      <td>0.024631</td>\n",
              "      <td>0.008139</td>\n",
              "      <td>0.032769</td>\n",
              "    </tr>\n",
              "    <tr>\n",
              "      <th>Assoc-voc</th>\n",
              "      <td>0.031357</td>\n",
              "      <td>0.011087</td>\n",
              "      <td>0.042443</td>\n",
              "    </tr>\n",
              "    <tr>\n",
              "      <th>Bachelors</th>\n",
              "      <td>0.096250</td>\n",
              "      <td>0.068210</td>\n",
              "      <td>0.164461</td>\n",
              "    </tr>\n",
              "    <tr>\n",
              "      <th>Doctorate</th>\n",
              "      <td>0.003286</td>\n",
              "      <td>0.009398</td>\n",
              "      <td>0.012684</td>\n",
              "    </tr>\n",
              "    <tr>\n",
              "      <th>HS-grad</th>\n",
              "      <td>0.271060</td>\n",
              "      <td>0.051442</td>\n",
              "      <td>0.322502</td>\n",
              "    </tr>\n",
              "    <tr>\n",
              "      <th>Masters</th>\n",
              "      <td>0.023464</td>\n",
              "      <td>0.029452</td>\n",
              "      <td>0.052916</td>\n",
              "    </tr>\n",
              "    <tr>\n",
              "      <th>Preschool</th>\n",
              "      <td>0.001566</td>\n",
              "      <td>0.000000</td>\n",
              "      <td>0.001566</td>\n",
              "    </tr>\n",
              "    <tr>\n",
              "      <th>Prof-school</th>\n",
              "      <td>0.004699</td>\n",
              "      <td>0.012991</td>\n",
              "      <td>0.017690</td>\n",
              "    </tr>\n",
              "    <tr>\n",
              "      <th>Some-college</th>\n",
              "      <td>0.181321</td>\n",
              "      <td>0.042597</td>\n",
              "      <td>0.223918</td>\n",
              "    </tr>\n",
              "    <tr>\n",
              "      <th>All</th>\n",
              "      <td>0.759190</td>\n",
              "      <td>0.240810</td>\n",
              "      <td>1.000000</td>\n",
              "    </tr>\n",
              "  </tbody>\n",
              "</table>\n",
              "</div>"
            ],
            "text/plain": [
              "target            <=50K      >50K       All\n",
              "education                                  \n",
              " 10th          0.026750  0.001904  0.028654\n",
              " 11th          0.034243  0.001843  0.036086\n",
              " 12th          0.012285  0.001013  0.013298\n",
              " 1st-4th       0.004975  0.000184  0.005160\n",
              " 5th-6th       0.009736  0.000491  0.010227\n",
              " 7th-8th       0.018611  0.001228  0.019840\n",
              " 9th           0.014957  0.000829  0.015786\n",
              " Assoc-acdm    0.024631  0.008139  0.032769\n",
              " Assoc-voc     0.031357  0.011087  0.042443\n",
              " Bachelors     0.096250  0.068210  0.164461\n",
              " Doctorate     0.003286  0.009398  0.012684\n",
              " HS-grad       0.271060  0.051442  0.322502\n",
              " Masters       0.023464  0.029452  0.052916\n",
              " Preschool     0.001566  0.000000  0.001566\n",
              " Prof-school   0.004699  0.012991  0.017690\n",
              " Some-college  0.181321  0.042597  0.223918\n",
              "All            0.759190  0.240810  1.000000"
            ]
          },
          "metadata": {
            "tags": []
          },
          "execution_count": 12
        }
      ]
    },
    {
      "cell_type": "code",
      "metadata": {
        "id": "53II6QtF5S28"
      },
      "source": [
        "#scikit-learn accepts data in nuemric format. To convert character variables in numeric array use labelencoder\n",
        "from sklearn import preprocessing\n",
        "\n",
        "for x in train.columns:\n",
        "  if train[x].dtype=='object':\n",
        "    lbl=preprocessing.LabelEncoder()\n",
        "    lbl.fit(list(train[x].values))\n",
        "    train[x]=lbl.transform(list(train[x].values))\n",
        "\n",
        "\n"
      ],
      "execution_count": null,
      "outputs": []
    },
    {
      "cell_type": "code",
      "metadata": {
        "colab": {
          "base_uri": "https://localhost:8080/",
          "height": 222
        },
        "id": "JDlGD_v1skkV",
        "outputId": "2e9f7745-5869-4fa7-e662-e15cc955eb77"
      },
      "source": [
        "train.head()"
      ],
      "execution_count": null,
      "outputs": [
        {
          "output_type": "execute_result",
          "data": {
            "text/html": [
              "<div>\n",
              "<style scoped>\n",
              "    .dataframe tbody tr th:only-of-type {\n",
              "        vertical-align: middle;\n",
              "    }\n",
              "\n",
              "    .dataframe tbody tr th {\n",
              "        vertical-align: top;\n",
              "    }\n",
              "\n",
              "    .dataframe thead th {\n",
              "        text-align: right;\n",
              "    }\n",
              "</style>\n",
              "<table border=\"1\" class=\"dataframe\">\n",
              "  <thead>\n",
              "    <tr style=\"text-align: right;\">\n",
              "      <th></th>\n",
              "      <th>age</th>\n",
              "      <th>workclass</th>\n",
              "      <th>fnlwgt</th>\n",
              "      <th>education</th>\n",
              "      <th>education.num</th>\n",
              "      <th>marital.status</th>\n",
              "      <th>occupation</th>\n",
              "      <th>relationship</th>\n",
              "      <th>race</th>\n",
              "      <th>sex</th>\n",
              "      <th>capital.gain</th>\n",
              "      <th>capital.loss</th>\n",
              "      <th>hours.per.week</th>\n",
              "      <th>native.country</th>\n",
              "      <th>target</th>\n",
              "    </tr>\n",
              "  </thead>\n",
              "  <tbody>\n",
              "    <tr>\n",
              "      <th>0</th>\n",
              "      <td>39</td>\n",
              "      <td>6</td>\n",
              "      <td>77516</td>\n",
              "      <td>9</td>\n",
              "      <td>13</td>\n",
              "      <td>4</td>\n",
              "      <td>0</td>\n",
              "      <td>1</td>\n",
              "      <td>4</td>\n",
              "      <td>1</td>\n",
              "      <td>2174</td>\n",
              "      <td>0</td>\n",
              "      <td>40</td>\n",
              "      <td>38</td>\n",
              "      <td>0</td>\n",
              "    </tr>\n",
              "    <tr>\n",
              "      <th>1</th>\n",
              "      <td>50</td>\n",
              "      <td>5</td>\n",
              "      <td>83311</td>\n",
              "      <td>9</td>\n",
              "      <td>13</td>\n",
              "      <td>2</td>\n",
              "      <td>3</td>\n",
              "      <td>0</td>\n",
              "      <td>4</td>\n",
              "      <td>1</td>\n",
              "      <td>0</td>\n",
              "      <td>0</td>\n",
              "      <td>13</td>\n",
              "      <td>38</td>\n",
              "      <td>0</td>\n",
              "    </tr>\n",
              "    <tr>\n",
              "      <th>2</th>\n",
              "      <td>38</td>\n",
              "      <td>3</td>\n",
              "      <td>215646</td>\n",
              "      <td>11</td>\n",
              "      <td>9</td>\n",
              "      <td>0</td>\n",
              "      <td>5</td>\n",
              "      <td>1</td>\n",
              "      <td>4</td>\n",
              "      <td>1</td>\n",
              "      <td>0</td>\n",
              "      <td>0</td>\n",
              "      <td>40</td>\n",
              "      <td>38</td>\n",
              "      <td>0</td>\n",
              "    </tr>\n",
              "    <tr>\n",
              "      <th>3</th>\n",
              "      <td>53</td>\n",
              "      <td>3</td>\n",
              "      <td>234721</td>\n",
              "      <td>1</td>\n",
              "      <td>7</td>\n",
              "      <td>2</td>\n",
              "      <td>5</td>\n",
              "      <td>0</td>\n",
              "      <td>2</td>\n",
              "      <td>1</td>\n",
              "      <td>0</td>\n",
              "      <td>0</td>\n",
              "      <td>40</td>\n",
              "      <td>38</td>\n",
              "      <td>0</td>\n",
              "    </tr>\n",
              "    <tr>\n",
              "      <th>4</th>\n",
              "      <td>28</td>\n",
              "      <td>3</td>\n",
              "      <td>338409</td>\n",
              "      <td>9</td>\n",
              "      <td>13</td>\n",
              "      <td>2</td>\n",
              "      <td>9</td>\n",
              "      <td>5</td>\n",
              "      <td>2</td>\n",
              "      <td>0</td>\n",
              "      <td>0</td>\n",
              "      <td>0</td>\n",
              "      <td>40</td>\n",
              "      <td>4</td>\n",
              "      <td>0</td>\n",
              "    </tr>\n",
              "  </tbody>\n",
              "</table>\n",
              "</div>"
            ],
            "text/plain": [
              "   age  workclass  fnlwgt  ...  hours.per.week  native.country  target\n",
              "0   39          6   77516  ...              40              38       0\n",
              "1   50          5   83311  ...              13              38       0\n",
              "2   38          3  215646  ...              40              38       0\n",
              "3   53          3  234721  ...              40              38       0\n",
              "4   28          3  338409  ...              40               4       0\n",
              "\n",
              "[5 rows x 15 columns]"
            ]
          },
          "metadata": {
            "tags": []
          },
          "execution_count": 14
        }
      ]
    },
    {
      "cell_type": "code",
      "metadata": {
        "colab": {
          "base_uri": "https://localhost:8080/"
        },
        "id": "a2BUX-NAss-a",
        "outputId": "3861dcb1-e71a-484b-851d-b8076f27a673"
      },
      "source": [
        "train.target.value_counts()/train.shape[0]"
      ],
      "execution_count": null,
      "outputs": [
        {
          "output_type": "execute_result",
          "data": {
            "text/plain": [
              "0    0.75919\n",
              "1    0.24081\n",
              "Name: target, dtype: float64"
            ]
          },
          "metadata": {
            "tags": []
          },
          "execution_count": 15
        }
      ]
    },
    {
      "cell_type": "code",
      "metadata": {
        "id": "n9FqwEaas5T6",
        "colab": {
          "base_uri": "https://localhost:8080/"
        },
        "outputId": "54c03191-05de-484b-d421-ecdbbe640778"
      },
      "source": [
        "#Building random forest model\n",
        "from sklearn.model_selection import train_test_split\n",
        "from sklearn.ensemble import RandomForestClassifier\n",
        "from sklearn.metrics import accuracy_score\n",
        "\n",
        "#splitting data for training\n",
        "y=train['target']\n",
        "del train['target']\n",
        "\n",
        "X=train\n",
        "X_train,X_test,y_train,y_test=train_test_split(X,y,test_size=0.3,random_state=1,stratify=y) \n",
        "\n",
        "#train random forest classifier\n",
        "clf=RandomForestClassifier(n_estimators=500, max_depth=6)\n",
        "clf.fit(X_train,y_train)\n",
        "\n",
        "RandomForestClassifier(bootstrap=True, class_weight=None, criterion='gini',\n",
        "                max_depth=6, max_features='auto', max_leaf_nodes=None,\n",
        "                min_impurity_split=1e-07, min_samples_leaf=1,\n",
        "                min_samples_split=2, min_weight_fraction_leaf=0.0,\n",
        "                n_estimators=500, n_jobs=1, oob_score=False, random_state=None,\n",
        "                verbose=0, warm_start=False)\n",
        "\n",
        "clf.predict(X_test)\n"
      ],
      "execution_count": null,
      "outputs": [
        {
          "output_type": "execute_result",
          "data": {
            "text/plain": [
              "array([0, 1, 0, ..., 0, 0, 0])"
            ]
          },
          "metadata": {
            "tags": []
          },
          "execution_count": 17
        }
      ]
    },
    {
      "cell_type": "code",
      "metadata": {
        "colab": {
          "base_uri": "https://localhost:8080/"
        },
        "id": "m7FA0h9Tta4b",
        "outputId": "39afd7b8-7e7a-4b43-a0ff-344abc3f5cf8"
      },
      "source": [
        "#make prediction through this model and test accuracy\n",
        "prediction=clf.predict(X_test)\n",
        "acc=accuracy_score(np.array(y_test),prediction)\n",
        "print(\"The training accuracy of classifier is {}\".format(acc))"
      ],
      "execution_count": null,
      "outputs": [
        {
          "output_type": "stream",
          "text": [
            "The training accuracy of classifier is 0.8518783908281298\n"
          ],
          "name": "stdout"
        }
      ]
    },
    {
      "cell_type": "code",
      "metadata": {
        "colab": {
          "base_uri": "https://localhost:8080/"
        },
        "id": "SUgud5rBusC7",
        "outputId": "117527ee-69cc-4f63-9580-eb644cf9d6b0"
      },
      "source": [
        "#Classifying Test data\n",
        "test.info\n"
      ],
      "execution_count": null,
      "outputs": [
        {
          "output_type": "execute_result",
          "data": {
            "text/plain": [
              "<bound method DataFrame.info of        age      workclass  fnlwgt  ... hours.per.week  native.country   target\n",
              "0       25        Private  226802  ...             40   United-States   <=50K.\n",
              "1       38        Private   89814  ...             50   United-States   <=50K.\n",
              "2       28      Local-gov  336951  ...             40   United-States    >50K.\n",
              "3       44        Private  160323  ...             40   United-States    >50K.\n",
              "4       18            NaN  103497  ...             30   United-States   <=50K.\n",
              "...    ...            ...     ...  ...            ...             ...      ...\n",
              "16276   39        Private  215419  ...             36   United-States   <=50K.\n",
              "16277   64            NaN  321403  ...             40   United-States   <=50K.\n",
              "16278   38        Private  374983  ...             50   United-States   <=50K.\n",
              "16279   44        Private   83891  ...             40   United-States   <=50K.\n",
              "16280   35   Self-emp-inc  182148  ...             60   United-States    >50K.\n",
              "\n",
              "[16281 rows x 15 columns]>"
            ]
          },
          "metadata": {
            "tags": []
          },
          "execution_count": 21
        }
      ]
    },
    {
      "cell_type": "code",
      "metadata": {
        "colab": {
          "base_uri": "https://localhost:8080/"
        },
        "id": "5iDo7sn50gj_",
        "outputId": "fb04d624-fe35-4cdb-a4cc-e438a5ab9ca1"
      },
      "source": [
        "test.shape"
      ],
      "execution_count": null,
      "outputs": [
        {
          "output_type": "execute_result",
          "data": {
            "text/plain": [
              "(16281, 15)"
            ]
          },
          "metadata": {
            "tags": []
          },
          "execution_count": 22
        }
      ]
    },
    {
      "cell_type": "code",
      "metadata": {
        "colab": {
          "base_uri": "https://localhost:8080/",
          "height": 309
        },
        "id": "SXmH0hTF0j1J",
        "outputId": "0573fd1e-2731-48a8-c45f-506b4196e8a8"
      },
      "source": [
        "test.head()"
      ],
      "execution_count": null,
      "outputs": [
        {
          "output_type": "execute_result",
          "data": {
            "text/html": [
              "<div>\n",
              "<style scoped>\n",
              "    .dataframe tbody tr th:only-of-type {\n",
              "        vertical-align: middle;\n",
              "    }\n",
              "\n",
              "    .dataframe tbody tr th {\n",
              "        vertical-align: top;\n",
              "    }\n",
              "\n",
              "    .dataframe thead th {\n",
              "        text-align: right;\n",
              "    }\n",
              "</style>\n",
              "<table border=\"1\" class=\"dataframe\">\n",
              "  <thead>\n",
              "    <tr style=\"text-align: right;\">\n",
              "      <th></th>\n",
              "      <th>age</th>\n",
              "      <th>workclass</th>\n",
              "      <th>fnlwgt</th>\n",
              "      <th>education</th>\n",
              "      <th>education.num</th>\n",
              "      <th>marital.status</th>\n",
              "      <th>occupation</th>\n",
              "      <th>relationship</th>\n",
              "      <th>race</th>\n",
              "      <th>sex</th>\n",
              "      <th>capital.gain</th>\n",
              "      <th>capital.loss</th>\n",
              "      <th>hours.per.week</th>\n",
              "      <th>native.country</th>\n",
              "      <th>target</th>\n",
              "    </tr>\n",
              "  </thead>\n",
              "  <tbody>\n",
              "    <tr>\n",
              "      <th>0</th>\n",
              "      <td>25</td>\n",
              "      <td>Private</td>\n",
              "      <td>226802</td>\n",
              "      <td>11th</td>\n",
              "      <td>7</td>\n",
              "      <td>Never-married</td>\n",
              "      <td>Machine-op-inspct</td>\n",
              "      <td>Own-child</td>\n",
              "      <td>Black</td>\n",
              "      <td>Male</td>\n",
              "      <td>0</td>\n",
              "      <td>0</td>\n",
              "      <td>40</td>\n",
              "      <td>United-States</td>\n",
              "      <td>&lt;=50K.</td>\n",
              "    </tr>\n",
              "    <tr>\n",
              "      <th>1</th>\n",
              "      <td>38</td>\n",
              "      <td>Private</td>\n",
              "      <td>89814</td>\n",
              "      <td>HS-grad</td>\n",
              "      <td>9</td>\n",
              "      <td>Married-civ-spouse</td>\n",
              "      <td>Farming-fishing</td>\n",
              "      <td>Husband</td>\n",
              "      <td>White</td>\n",
              "      <td>Male</td>\n",
              "      <td>0</td>\n",
              "      <td>0</td>\n",
              "      <td>50</td>\n",
              "      <td>United-States</td>\n",
              "      <td>&lt;=50K.</td>\n",
              "    </tr>\n",
              "    <tr>\n",
              "      <th>2</th>\n",
              "      <td>28</td>\n",
              "      <td>Local-gov</td>\n",
              "      <td>336951</td>\n",
              "      <td>Assoc-acdm</td>\n",
              "      <td>12</td>\n",
              "      <td>Married-civ-spouse</td>\n",
              "      <td>Protective-serv</td>\n",
              "      <td>Husband</td>\n",
              "      <td>White</td>\n",
              "      <td>Male</td>\n",
              "      <td>0</td>\n",
              "      <td>0</td>\n",
              "      <td>40</td>\n",
              "      <td>United-States</td>\n",
              "      <td>&gt;50K.</td>\n",
              "    </tr>\n",
              "    <tr>\n",
              "      <th>3</th>\n",
              "      <td>44</td>\n",
              "      <td>Private</td>\n",
              "      <td>160323</td>\n",
              "      <td>Some-college</td>\n",
              "      <td>10</td>\n",
              "      <td>Married-civ-spouse</td>\n",
              "      <td>Machine-op-inspct</td>\n",
              "      <td>Husband</td>\n",
              "      <td>Black</td>\n",
              "      <td>Male</td>\n",
              "      <td>7688</td>\n",
              "      <td>0</td>\n",
              "      <td>40</td>\n",
              "      <td>United-States</td>\n",
              "      <td>&gt;50K.</td>\n",
              "    </tr>\n",
              "    <tr>\n",
              "      <th>4</th>\n",
              "      <td>18</td>\n",
              "      <td>NaN</td>\n",
              "      <td>103497</td>\n",
              "      <td>Some-college</td>\n",
              "      <td>10</td>\n",
              "      <td>Never-married</td>\n",
              "      <td>NaN</td>\n",
              "      <td>Own-child</td>\n",
              "      <td>White</td>\n",
              "      <td>Female</td>\n",
              "      <td>0</td>\n",
              "      <td>0</td>\n",
              "      <td>30</td>\n",
              "      <td>United-States</td>\n",
              "      <td>&lt;=50K.</td>\n",
              "    </tr>\n",
              "  </tbody>\n",
              "</table>\n",
              "</div>"
            ],
            "text/plain": [
              "   age   workclass  fnlwgt  ... hours.per.week  native.country   target\n",
              "0   25     Private  226802  ...             40   United-States   <=50K.\n",
              "1   38     Private   89814  ...             50   United-States   <=50K.\n",
              "2   28   Local-gov  336951  ...             40   United-States    >50K.\n",
              "3   44     Private  160323  ...             40   United-States    >50K.\n",
              "4   18         NaN  103497  ...             30   United-States   <=50K.\n",
              "\n",
              "[5 rows x 15 columns]"
            ]
          },
          "metadata": {
            "tags": []
          },
          "execution_count": 24
        }
      ]
    },
    {
      "cell_type": "code",
      "metadata": {
        "colab": {
          "base_uri": "https://localhost:8080/"
        },
        "id": "z11jJzq90uS8",
        "outputId": "eabb2577-9ed4-40ff-c904-c3724557be92"
      },
      "source": [
        "nand=test.shape[0]-test.dropna().shape[0]\n",
        "print(\"Missing values in test data\",nand)"
      ],
      "execution_count": null,
      "outputs": [
        {
          "output_type": "stream",
          "text": [
            "Missing values in test data 1221\n"
          ],
          "name": "stdout"
        }
      ]
    },
    {
      "cell_type": "code",
      "metadata": {
        "colab": {
          "base_uri": "https://localhost:8080/"
        },
        "id": "nedKC5sa1PG-",
        "outputId": "6ac6e341-b376-43a9-ebe1-2d1403ff5dec"
      },
      "source": [
        "test.isnull().sum()"
      ],
      "execution_count": null,
      "outputs": [
        {
          "output_type": "execute_result",
          "data": {
            "text/plain": [
              "age                 0\n",
              "workclass         963\n",
              "fnlwgt              0\n",
              "education           0\n",
              "education.num       0\n",
              "marital.status      0\n",
              "occupation        966\n",
              "relationship        0\n",
              "race                0\n",
              "sex                 0\n",
              "capital.gain        0\n",
              "capital.loss        0\n",
              "hours.per.week      0\n",
              "native.country    274\n",
              "target              0\n",
              "dtype: int64"
            ]
          },
          "metadata": {
            "tags": []
          },
          "execution_count": 27
        }
      ]
    },
    {
      "cell_type": "code",
      "metadata": {
        "colab": {
          "base_uri": "https://localhost:8080/"
        },
        "id": "8gpv898V1XtR",
        "outputId": "ddf6702e-542c-4555-e3f0-e7d442d6534a"
      },
      "source": [
        "test.workclass.value_counts()\n",
        "test.workclass.fillna(value='Private',inplace=True)\n",
        "\n",
        "test.occupation.value_counts()\n",
        "test.occupation.fillna(value='Prof-specialty',inplace=True)\n",
        "\n",
        "test['native.country'].value_counts()\n",
        "test['native.country'].fillna(value='United-States',inplace=True)\n",
        "\n",
        "test.isnull().sum()\n"
      ],
      "execution_count": null,
      "outputs": [
        {
          "output_type": "execute_result",
          "data": {
            "text/plain": [
              "age               0\n",
              "workclass         0\n",
              "fnlwgt            0\n",
              "education         0\n",
              "education.num     0\n",
              "marital.status    0\n",
              "occupation        0\n",
              "relationship      0\n",
              "race              0\n",
              "sex               0\n",
              "capital.gain      0\n",
              "capital.loss      0\n",
              "hours.per.week    0\n",
              "native.country    0\n",
              "target            0\n",
              "dtype: int64"
            ]
          },
          "metadata": {
            "tags": []
          },
          "execution_count": 36
        }
      ]
    },
    {
      "cell_type": "code",
      "metadata": {
        "colab": {
          "base_uri": "https://localhost:8080/"
        },
        "id": "wybLQNeR2Ncj",
        "outputId": "1ab560ba-c31a-4cb7-9c77-3a516c1a3d1c"
      },
      "source": [
        "test.target.value_counts()/test.shape[0]"
      ],
      "execution_count": null,
      "outputs": [
        {
          "output_type": "execute_result",
          "data": {
            "text/plain": [
              " <=50K.    0.763774\n",
              " >50K.     0.236226\n",
              "Name: target, dtype: float64"
            ]
          },
          "metadata": {
            "tags": []
          },
          "execution_count": 37
        }
      ]
    },
    {
      "cell_type": "code",
      "metadata": {
        "colab": {
          "base_uri": "https://localhost:8080/",
          "height": 601
        },
        "id": "Yc6egvJE2XGx",
        "outputId": "bfe03f02-250e-4ce7-fac6-55bcc71965c3"
      },
      "source": [
        "pd.crosstab(test.education,test.target,margins=True)/test.shape[0]"
      ],
      "execution_count": null,
      "outputs": [
        {
          "output_type": "execute_result",
          "data": {
            "text/html": [
              "<div>\n",
              "<style scoped>\n",
              "    .dataframe tbody tr th:only-of-type {\n",
              "        vertical-align: middle;\n",
              "    }\n",
              "\n",
              "    .dataframe tbody tr th {\n",
              "        vertical-align: top;\n",
              "    }\n",
              "\n",
              "    .dataframe thead th {\n",
              "        text-align: right;\n",
              "    }\n",
              "</style>\n",
              "<table border=\"1\" class=\"dataframe\">\n",
              "  <thead>\n",
              "    <tr style=\"text-align: right;\">\n",
              "      <th>target</th>\n",
              "      <th>&lt;=50K.</th>\n",
              "      <th>&gt;50K.</th>\n",
              "      <th>All</th>\n",
              "    </tr>\n",
              "    <tr>\n",
              "      <th>education</th>\n",
              "      <th></th>\n",
              "      <th></th>\n",
              "      <th></th>\n",
              "    </tr>\n",
              "  </thead>\n",
              "  <tbody>\n",
              "    <tr>\n",
              "      <th>10th</th>\n",
              "      <td>0.026473</td>\n",
              "      <td>0.001536</td>\n",
              "      <td>0.028008</td>\n",
              "    </tr>\n",
              "    <tr>\n",
              "      <th>11th</th>\n",
              "      <td>0.037160</td>\n",
              "      <td>0.001965</td>\n",
              "      <td>0.039125</td>\n",
              "    </tr>\n",
              "    <tr>\n",
              "      <th>12th</th>\n",
              "      <td>0.012837</td>\n",
              "      <td>0.000921</td>\n",
              "      <td>0.013758</td>\n",
              "    </tr>\n",
              "    <tr>\n",
              "      <th>1st-4th</th>\n",
              "      <td>0.004729</td>\n",
              "      <td>0.000123</td>\n",
              "      <td>0.004852</td>\n",
              "    </tr>\n",
              "    <tr>\n",
              "      <th>5th-6th</th>\n",
              "      <td>0.010135</td>\n",
              "      <td>0.000676</td>\n",
              "      <td>0.010810</td>\n",
              "    </tr>\n",
              "    <tr>\n",
              "      <th>7th-8th</th>\n",
              "      <td>0.017628</td>\n",
              "      <td>0.001351</td>\n",
              "      <td>0.018979</td>\n",
              "    </tr>\n",
              "    <tr>\n",
              "      <th>9th</th>\n",
              "      <td>0.014004</td>\n",
              "      <td>0.000860</td>\n",
              "      <td>0.014864</td>\n",
              "    </tr>\n",
              "    <tr>\n",
              "      <th>Assoc-acdm</th>\n",
              "      <td>0.023709</td>\n",
              "      <td>0.009090</td>\n",
              "      <td>0.032799</td>\n",
              "    </tr>\n",
              "    <tr>\n",
              "      <th>Assoc-voc</th>\n",
              "      <td>0.031816</td>\n",
              "      <td>0.009889</td>\n",
              "      <td>0.041705</td>\n",
              "    </tr>\n",
              "    <tr>\n",
              "      <th>Bachelors</th>\n",
              "      <td>0.096923</td>\n",
              "      <td>0.067072</td>\n",
              "      <td>0.163995</td>\n",
              "    </tr>\n",
              "    <tr>\n",
              "      <th>Doctorate</th>\n",
              "      <td>0.003440</td>\n",
              "      <td>0.007678</td>\n",
              "      <td>0.011117</td>\n",
              "    </tr>\n",
              "    <tr>\n",
              "      <th>HS-grad</th>\n",
              "      <td>0.273632</td>\n",
              "      <td>0.050857</td>\n",
              "      <td>0.324489</td>\n",
              "    </tr>\n",
              "    <tr>\n",
              "      <th>Masters</th>\n",
              "      <td>0.026657</td>\n",
              "      <td>0.030711</td>\n",
              "      <td>0.057367</td>\n",
              "    </tr>\n",
              "    <tr>\n",
              "      <th>Preschool</th>\n",
              "      <td>0.001904</td>\n",
              "      <td>0.000061</td>\n",
              "      <td>0.001965</td>\n",
              "    </tr>\n",
              "    <tr>\n",
              "      <th>Prof-school</th>\n",
              "      <td>0.003931</td>\n",
              "      <td>0.011916</td>\n",
              "      <td>0.015847</td>\n",
              "    </tr>\n",
              "    <tr>\n",
              "      <th>Some-college</th>\n",
              "      <td>0.178797</td>\n",
              "      <td>0.041521</td>\n",
              "      <td>0.220318</td>\n",
              "    </tr>\n",
              "    <tr>\n",
              "      <th>All</th>\n",
              "      <td>0.763774</td>\n",
              "      <td>0.236226</td>\n",
              "      <td>1.000000</td>\n",
              "    </tr>\n",
              "  </tbody>\n",
              "</table>\n",
              "</div>"
            ],
            "text/plain": [
              "target           <=50K.     >50K.       All\n",
              "education                                  \n",
              " 10th          0.026473  0.001536  0.028008\n",
              " 11th          0.037160  0.001965  0.039125\n",
              " 12th          0.012837  0.000921  0.013758\n",
              " 1st-4th       0.004729  0.000123  0.004852\n",
              " 5th-6th       0.010135  0.000676  0.010810\n",
              " 7th-8th       0.017628  0.001351  0.018979\n",
              " 9th           0.014004  0.000860  0.014864\n",
              " Assoc-acdm    0.023709  0.009090  0.032799\n",
              " Assoc-voc     0.031816  0.009889  0.041705\n",
              " Bachelors     0.096923  0.067072  0.163995\n",
              " Doctorate     0.003440  0.007678  0.011117\n",
              " HS-grad       0.273632  0.050857  0.324489\n",
              " Masters       0.026657  0.030711  0.057367\n",
              " Preschool     0.001904  0.000061  0.001965\n",
              " Prof-school   0.003931  0.011916  0.015847\n",
              " Some-college  0.178797  0.041521  0.220318\n",
              "All            0.763774  0.236226  1.000000"
            ]
          },
          "metadata": {
            "tags": []
          },
          "execution_count": 39
        }
      ]
    },
    {
      "cell_type": "code",
      "metadata": {
        "id": "vz8Y-xdD2vj9"
      },
      "source": [
        "from sklearn import preprocessing\n",
        "\n",
        "for x in test.columns:\n",
        "  if test[x].dtype=='O':\n",
        "    lbl=preprocessing.LabelEncoder()\n",
        "    lbl.fit(list(test[x].values))\n",
        "    test[x]=lbl.transform(list(test[x].values))\n"
      ],
      "execution_count": null,
      "outputs": []
    },
    {
      "cell_type": "code",
      "metadata": {
        "colab": {
          "base_uri": "https://localhost:8080/"
        },
        "id": "uwwZRFHT4HuT",
        "outputId": "74c319c4-a820-4b44-cd4e-509b0c482a8d"
      },
      "source": [
        "test.target.value_counts()"
      ],
      "execution_count": null,
      "outputs": [
        {
          "output_type": "execute_result",
          "data": {
            "text/plain": [
              "0    12435\n",
              "1     3846\n",
              "Name: target, dtype: int64"
            ]
          },
          "metadata": {
            "tags": []
          },
          "execution_count": 49
        }
      ]
    },
    {
      "cell_type": "code",
      "metadata": {
        "id": "syrfyBs24M-4"
      },
      "source": [
        "#making prediction\n",
        "y=test['target']\n",
        "del test['target']\n",
        "\n"
      ],
      "execution_count": null,
      "outputs": []
    },
    {
      "cell_type": "code",
      "metadata": {
        "id": "iWhwZKE-7qC4",
        "colab": {
          "base_uri": "https://localhost:8080/"
        },
        "outputId": "75771806-fa0a-4dec-ec4b-8690e48b3202"
      },
      "source": [
        "prediction=clf.predict(test)\n",
        "acc_test=accuracy_score(np.array(y),prediction)\n",
        "print(\"Testing accuracy of model is {}\".format(acc_test))"
      ],
      "execution_count": null,
      "outputs": [
        {
          "output_type": "stream",
          "text": [
            "Testing accuracy of model is 0.8544929672624532\n"
          ],
          "name": "stdout"
        }
      ]
    }
  ]
}